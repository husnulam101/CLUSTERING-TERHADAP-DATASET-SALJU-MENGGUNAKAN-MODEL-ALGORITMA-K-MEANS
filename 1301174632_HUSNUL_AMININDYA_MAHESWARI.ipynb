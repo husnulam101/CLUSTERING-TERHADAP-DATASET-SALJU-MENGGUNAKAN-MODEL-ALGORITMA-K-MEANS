{
  "nbformat": 4,
  "nbformat_minor": 0,
  "metadata": {
    "colab": {
      "name": "1301174632_HUSNUL AMININDYA MAHESWARI.ipynb",
      "provenance": [],
      "collapsed_sections": []
    },
    "kernelspec": {
      "display_name": "Python 3",
      "name": "python3"
    },
    "language_info": {
      "name": "python"
    }
  },
  "cells": [
    {
      "cell_type": "code",
      "metadata": {
        "id": "Hqx3OerOZsu5"
      },
      "source": [
        "import pandas as pd\n",
        "import numpy as np\n",
        "import matplotlib.pyplot as plt\n",
        "import seaborn as sns\n",
        "import random as rd"
      ],
      "execution_count": 93,
      "outputs": []
    },
    {
      "cell_type": "code",
      "metadata": {
        "id": "kl5AeiiyZ3-Z"
      },
      "source": [
        "#salju_test = pd.read_csv('salju_test.csv')\n",
        "salju_train = pd.read_csv('salju_train.csv')"
      ],
      "execution_count": 94,
      "outputs": []
    },
    {
      "cell_type": "code",
      "metadata": {
        "colab": {
          "base_uri": "https://localhost:8080/",
          "height": 426
        },
        "id": "pZD-VMEC0Fuo",
        "outputId": "cc57d479-f317-4edc-a3cb-937771b0734c"
      },
      "source": [
        "salju_train"
      ],
      "execution_count": 95,
      "outputs": [
        {
          "output_type": "execute_result",
          "data": {
            "text/html": [
              "<div>\n",
              "<style scoped>\n",
              "    .dataframe tbody tr th:only-of-type {\n",
              "        vertical-align: middle;\n",
              "    }\n",
              "\n",
              "    .dataframe tbody tr th {\n",
              "        vertical-align: top;\n",
              "    }\n",
              "\n",
              "    .dataframe thead th {\n",
              "        text-align: right;\n",
              "    }\n",
              "</style>\n",
              "<table border=\"1\" class=\"dataframe\">\n",
              "  <thead>\n",
              "    <tr style=\"text-align: right;\">\n",
              "      <th></th>\n",
              "      <th>id</th>\n",
              "      <th>Tanggal</th>\n",
              "      <th>KodeLokasi</th>\n",
              "      <th>SuhuMin</th>\n",
              "      <th>SuhuMax</th>\n",
              "      <th>Hujan</th>\n",
              "      <th>Penguapan</th>\n",
              "      <th>SinarMatahari</th>\n",
              "      <th>ArahAnginTerkencang</th>\n",
              "      <th>KecepatanAnginTerkencang</th>\n",
              "      <th>ArahAngin9am</th>\n",
              "      <th>ArahAngin3pm</th>\n",
              "      <th>KecepatanAngin9am</th>\n",
              "      <th>KecepatanAngin3pm</th>\n",
              "      <th>Kelembaban9am</th>\n",
              "      <th>Kelembaban3pm</th>\n",
              "      <th>Tekanan9am</th>\n",
              "      <th>Tekanan3pm</th>\n",
              "      <th>Awan9am</th>\n",
              "      <th>Awan3pm</th>\n",
              "      <th>Suhu9am</th>\n",
              "      <th>Suhu3pm</th>\n",
              "      <th>BersaljuHariIni</th>\n",
              "      <th>BersaljuBesok</th>\n",
              "    </tr>\n",
              "  </thead>\n",
              "  <tbody>\n",
              "    <tr>\n",
              "      <th>0</th>\n",
              "      <td>1</td>\n",
              "      <td>01/06/2014</td>\n",
              "      <td>C4</td>\n",
              "      <td>10.4</td>\n",
              "      <td>15.5</td>\n",
              "      <td>4.8</td>\n",
              "      <td>NaN</td>\n",
              "      <td>NaN</td>\n",
              "      <td>WSW</td>\n",
              "      <td>24.0</td>\n",
              "      <td>NaN</td>\n",
              "      <td>WSW</td>\n",
              "      <td>0.0</td>\n",
              "      <td>13.0</td>\n",
              "      <td>78.0</td>\n",
              "      <td>76.0</td>\n",
              "      <td>1020.1</td>\n",
              "      <td>1018.5</td>\n",
              "      <td>NaN</td>\n",
              "      <td>NaN</td>\n",
              "      <td>13.1</td>\n",
              "      <td>15.0</td>\n",
              "      <td>Ya</td>\n",
              "      <td>Tidak</td>\n",
              "    </tr>\n",
              "    <tr>\n",
              "      <th>1</th>\n",
              "      <td>2</td>\n",
              "      <td>15/07/2014</td>\n",
              "      <td>C10</td>\n",
              "      <td>9.0</td>\n",
              "      <td>17.0</td>\n",
              "      <td>8.0</td>\n",
              "      <td>2.6</td>\n",
              "      <td>7.4</td>\n",
              "      <td>NaN</td>\n",
              "      <td>NaN</td>\n",
              "      <td>SW</td>\n",
              "      <td>WNW</td>\n",
              "      <td>13.0</td>\n",
              "      <td>20.0</td>\n",
              "      <td>80.0</td>\n",
              "      <td>61.0</td>\n",
              "      <td>1015.2</td>\n",
              "      <td>1014.6</td>\n",
              "      <td>7.0</td>\n",
              "      <td>5.0</td>\n",
              "      <td>11.9</td>\n",
              "      <td>15.5</td>\n",
              "      <td>Ya</td>\n",
              "      <td>Ya</td>\n",
              "    </tr>\n",
              "    <tr>\n",
              "      <th>2</th>\n",
              "      <td>3</td>\n",
              "      <td>16/02/2011</td>\n",
              "      <td>C46</td>\n",
              "      <td>18.2</td>\n",
              "      <td>32.0</td>\n",
              "      <td>0.0</td>\n",
              "      <td>NaN</td>\n",
              "      <td>NaN</td>\n",
              "      <td>ESE</td>\n",
              "      <td>44.0</td>\n",
              "      <td>SE</td>\n",
              "      <td>SE</td>\n",
              "      <td>15.0</td>\n",
              "      <td>26.0</td>\n",
              "      <td>62.0</td>\n",
              "      <td>42.0</td>\n",
              "      <td>NaN</td>\n",
              "      <td>NaN</td>\n",
              "      <td>NaN</td>\n",
              "      <td>NaN</td>\n",
              "      <td>23.8</td>\n",
              "      <td>29.6</td>\n",
              "      <td>Tidak</td>\n",
              "      <td>Tidak</td>\n",
              "    </tr>\n",
              "    <tr>\n",
              "      <th>3</th>\n",
              "      <td>4</td>\n",
              "      <td>08/08/2012</td>\n",
              "      <td>C36</td>\n",
              "      <td>7.3</td>\n",
              "      <td>24.5</td>\n",
              "      <td>0.0</td>\n",
              "      <td>8.4</td>\n",
              "      <td>10.4</td>\n",
              "      <td>SSW</td>\n",
              "      <td>54.0</td>\n",
              "      <td>N</td>\n",
              "      <td>SW</td>\n",
              "      <td>13.0</td>\n",
              "      <td>19.0</td>\n",
              "      <td>25.0</td>\n",
              "      <td>17.0</td>\n",
              "      <td>1019.2</td>\n",
              "      <td>1016.9</td>\n",
              "      <td>1.0</td>\n",
              "      <td>7.0</td>\n",
              "      <td>15.3</td>\n",
              "      <td>23.2</td>\n",
              "      <td>Tidak</td>\n",
              "      <td>Tidak</td>\n",
              "    </tr>\n",
              "    <tr>\n",
              "      <th>4</th>\n",
              "      <td>5</td>\n",
              "      <td>29/10/2016</td>\n",
              "      <td>C7</td>\n",
              "      <td>5.9</td>\n",
              "      <td>20.3</td>\n",
              "      <td>0.0</td>\n",
              "      <td>3.6</td>\n",
              "      <td>12.6</td>\n",
              "      <td>N</td>\n",
              "      <td>37.0</td>\n",
              "      <td>NNW</td>\n",
              "      <td>ESE</td>\n",
              "      <td>22.0</td>\n",
              "      <td>19.0</td>\n",
              "      <td>55.0</td>\n",
              "      <td>48.0</td>\n",
              "      <td>1019.7</td>\n",
              "      <td>1014.7</td>\n",
              "      <td>2.0</td>\n",
              "      <td>6.0</td>\n",
              "      <td>12.4</td>\n",
              "      <td>18.1</td>\n",
              "      <td>Tidak</td>\n",
              "      <td>Tidak</td>\n",
              "    </tr>\n",
              "    <tr>\n",
              "      <th>...</th>\n",
              "      <td>...</td>\n",
              "      <td>...</td>\n",
              "      <td>...</td>\n",
              "      <td>...</td>\n",
              "      <td>...</td>\n",
              "      <td>...</td>\n",
              "      <td>...</td>\n",
              "      <td>...</td>\n",
              "      <td>...</td>\n",
              "      <td>...</td>\n",
              "      <td>...</td>\n",
              "      <td>...</td>\n",
              "      <td>...</td>\n",
              "      <td>...</td>\n",
              "      <td>...</td>\n",
              "      <td>...</td>\n",
              "      <td>...</td>\n",
              "      <td>...</td>\n",
              "      <td>...</td>\n",
              "      <td>...</td>\n",
              "      <td>...</td>\n",
              "      <td>...</td>\n",
              "      <td>...</td>\n",
              "      <td>...</td>\n",
              "    </tr>\n",
              "    <tr>\n",
              "      <th>109090</th>\n",
              "      <td>109091</td>\n",
              "      <td>31/01/2009</td>\n",
              "      <td>C38</td>\n",
              "      <td>20.1</td>\n",
              "      <td>23.7</td>\n",
              "      <td>0.0</td>\n",
              "      <td>7.2</td>\n",
              "      <td>8.9</td>\n",
              "      <td>ESE</td>\n",
              "      <td>43.0</td>\n",
              "      <td>SE</td>\n",
              "      <td>ESE</td>\n",
              "      <td>24.0</td>\n",
              "      <td>26.0</td>\n",
              "      <td>74.0</td>\n",
              "      <td>70.0</td>\n",
              "      <td>1019.3</td>\n",
              "      <td>1017.6</td>\n",
              "      <td>4.0</td>\n",
              "      <td>6.0</td>\n",
              "      <td>22.0</td>\n",
              "      <td>22.1</td>\n",
              "      <td>Tidak</td>\n",
              "      <td>Ya</td>\n",
              "    </tr>\n",
              "    <tr>\n",
              "      <th>109091</th>\n",
              "      <td>109092</td>\n",
              "      <td>03/11/2010</td>\n",
              "      <td>C16</td>\n",
              "      <td>15.7</td>\n",
              "      <td>25.2</td>\n",
              "      <td>0.0</td>\n",
              "      <td>NaN</td>\n",
              "      <td>NaN</td>\n",
              "      <td>SSE</td>\n",
              "      <td>37.0</td>\n",
              "      <td>SSE</td>\n",
              "      <td>E</td>\n",
              "      <td>28.0</td>\n",
              "      <td>19.0</td>\n",
              "      <td>52.0</td>\n",
              "      <td>52.0</td>\n",
              "      <td>1018.4</td>\n",
              "      <td>1016.2</td>\n",
              "      <td>NaN</td>\n",
              "      <td>NaN</td>\n",
              "      <td>23.8</td>\n",
              "      <td>24.4</td>\n",
              "      <td>Tidak</td>\n",
              "      <td>Ya</td>\n",
              "    </tr>\n",
              "    <tr>\n",
              "      <th>109092</th>\n",
              "      <td>109093</td>\n",
              "      <td>11/11/2010</td>\n",
              "      <td>C17</td>\n",
              "      <td>7.5</td>\n",
              "      <td>20.4</td>\n",
              "      <td>1.6</td>\n",
              "      <td>NaN</td>\n",
              "      <td>NaN</td>\n",
              "      <td>NW</td>\n",
              "      <td>33.0</td>\n",
              "      <td>N</td>\n",
              "      <td>NW</td>\n",
              "      <td>4.0</td>\n",
              "      <td>13.0</td>\n",
              "      <td>92.0</td>\n",
              "      <td>51.0</td>\n",
              "      <td>1014.5</td>\n",
              "      <td>1010.6</td>\n",
              "      <td>NaN</td>\n",
              "      <td>NaN</td>\n",
              "      <td>12.6</td>\n",
              "      <td>19.8</td>\n",
              "      <td>Ya</td>\n",
              "      <td>Tidak</td>\n",
              "    </tr>\n",
              "    <tr>\n",
              "      <th>109093</th>\n",
              "      <td>109094</td>\n",
              "      <td>16/04/2012</td>\n",
              "      <td>C11</td>\n",
              "      <td>10.8</td>\n",
              "      <td>29.8</td>\n",
              "      <td>0.0</td>\n",
              "      <td>7.8</td>\n",
              "      <td>11.2</td>\n",
              "      <td>E</td>\n",
              "      <td>48.0</td>\n",
              "      <td>ESE</td>\n",
              "      <td>SE</td>\n",
              "      <td>13.0</td>\n",
              "      <td>26.0</td>\n",
              "      <td>35.0</td>\n",
              "      <td>18.0</td>\n",
              "      <td>1020.0</td>\n",
              "      <td>1015.8</td>\n",
              "      <td>0.0</td>\n",
              "      <td>1.0</td>\n",
              "      <td>21.7</td>\n",
              "      <td>29.2</td>\n",
              "      <td>Tidak</td>\n",
              "      <td>Tidak</td>\n",
              "    </tr>\n",
              "    <tr>\n",
              "      <th>109094</th>\n",
              "      <td>109095</td>\n",
              "      <td>09/10/2011</td>\n",
              "      <td>C16</td>\n",
              "      <td>12.3</td>\n",
              "      <td>27.4</td>\n",
              "      <td>9.0</td>\n",
              "      <td>NaN</td>\n",
              "      <td>NaN</td>\n",
              "      <td>WNW</td>\n",
              "      <td>35.0</td>\n",
              "      <td>NNE</td>\n",
              "      <td>NE</td>\n",
              "      <td>11.0</td>\n",
              "      <td>15.0</td>\n",
              "      <td>71.0</td>\n",
              "      <td>76.0</td>\n",
              "      <td>1010.4</td>\n",
              "      <td>1005.4</td>\n",
              "      <td>NaN</td>\n",
              "      <td>NaN</td>\n",
              "      <td>20.4</td>\n",
              "      <td>23.3</td>\n",
              "      <td>Ya</td>\n",
              "      <td>Tidak</td>\n",
              "    </tr>\n",
              "  </tbody>\n",
              "</table>\n",
              "<p>109095 rows × 24 columns</p>\n",
              "</div>"
            ],
            "text/plain": [
              "            id     Tanggal KodeLokasi  ...  Suhu3pm  BersaljuHariIni  BersaljuBesok\n",
              "0            1  01/06/2014         C4  ...     15.0               Ya          Tidak\n",
              "1            2  15/07/2014        C10  ...     15.5               Ya             Ya\n",
              "2            3  16/02/2011        C46  ...     29.6            Tidak          Tidak\n",
              "3            4  08/08/2012        C36  ...     23.2            Tidak          Tidak\n",
              "4            5  29/10/2016         C7  ...     18.1            Tidak          Tidak\n",
              "...        ...         ...        ...  ...      ...              ...            ...\n",
              "109090  109091  31/01/2009        C38  ...     22.1            Tidak             Ya\n",
              "109091  109092  03/11/2010        C16  ...     24.4            Tidak             Ya\n",
              "109092  109093  11/11/2010        C17  ...     19.8               Ya          Tidak\n",
              "109093  109094  16/04/2012        C11  ...     29.2            Tidak          Tidak\n",
              "109094  109095  09/10/2011        C16  ...     23.3               Ya          Tidak\n",
              "\n",
              "[109095 rows x 24 columns]"
            ]
          },
          "metadata": {
            "tags": []
          },
          "execution_count": 95
        }
      ]
    },
    {
      "cell_type": "code",
      "metadata": {
        "id": "Q2ZIReEv0JKV"
      },
      "source": [
        "#salju_test.head()"
      ],
      "execution_count": 96,
      "outputs": []
    },
    {
      "cell_type": "markdown",
      "metadata": {
        "id": "0KC4IaKobE57"
      },
      "source": [
        "# **Masalah: Mengelompokkan data-data dalam berbagai cluster**"
      ]
    },
    {
      "cell_type": "markdown",
      "metadata": {
        "id": "3gGnqgadbNTK"
      },
      "source": [
        "### **1. Melakukan eksplorasi data untuk menemukan atribut yang berpengaruh**\n"
      ]
    },
    {
      "cell_type": "code",
      "metadata": {
        "colab": {
          "base_uri": "https://localhost:8080/"
        },
        "id": "3r7v56dVvCXs",
        "outputId": "c9efeb3b-425d-49a3-f4e7-80db3da5c64a"
      },
      "source": [
        "salju_train.isnull().sum()"
      ],
      "execution_count": 97,
      "outputs": [
        {
          "output_type": "execute_result",
          "data": {
            "text/plain": [
              "id                              0\n",
              "Tanggal                         0\n",
              "KodeLokasi                      0\n",
              "SuhuMin                      1122\n",
              "SuhuMax                       929\n",
              "Hujan                        2431\n",
              "Penguapan                   47024\n",
              "SinarMatahari               52379\n",
              "ArahAnginTerkencang          7744\n",
              "KecepatanAnginTerkencang     7696\n",
              "ArahAngin9am                 7923\n",
              "ArahAngin3pm                 3197\n",
              "KecepatanAngin9am            1353\n",
              "KecepatanAngin3pm            2303\n",
              "Kelembaban9am                2002\n",
              "Kelembaban3pm                3374\n",
              "Tekanan9am                  11327\n",
              "Tekanan3pm                  11308\n",
              "Awan9am                     41844\n",
              "Awan3pm                     44471\n",
              "Suhu9am                      1340\n",
              "Suhu3pm                      2698\n",
              "BersaljuHariIni              2431\n",
              "BersaljuBesok                2431\n",
              "dtype: int64"
            ]
          },
          "metadata": {
            "tags": []
          },
          "execution_count": 97
        }
      ]
    },
    {
      "cell_type": "markdown",
      "metadata": {
        "id": "A8rYDh5svEAj"
      },
      "source": [
        "Hasil di atas menunjukkan masih banyak data null/Nan di dataset salju_train."
      ]
    },
    {
      "cell_type": "code",
      "metadata": {
        "colab": {
          "base_uri": "https://localhost:8080/"
        },
        "id": "R0cuxNuka8KN",
        "outputId": "3495b26d-c20e-4a29-aaca-b23fab4246cd"
      },
      "source": [
        "salju_train.shape"
      ],
      "execution_count": 98,
      "outputs": [
        {
          "output_type": "execute_result",
          "data": {
            "text/plain": [
              "(109095, 24)"
            ]
          },
          "metadata": {
            "tags": []
          },
          "execution_count": 98
        }
      ]
    },
    {
      "cell_type": "markdown",
      "metadata": {
        "id": "7ALGkNhMk8cC"
      },
      "source": [
        "Data dari salju_train mengandung 24 kolom dan 109095 baris"
      ]
    },
    {
      "cell_type": "code",
      "metadata": {
        "colab": {
          "base_uri": "https://localhost:8080/"
        },
        "id": "Hx0RlhDCk7IG",
        "outputId": "6695d9b5-7756-427f-b451-b75254be870d"
      },
      "source": [
        "#Kolomnya ada apa saja\n",
        "salju_train.columns"
      ],
      "execution_count": 99,
      "outputs": [
        {
          "output_type": "execute_result",
          "data": {
            "text/plain": [
              "Index(['id', 'Tanggal', 'KodeLokasi', 'SuhuMin', 'SuhuMax', 'Hujan',\n",
              "       'Penguapan', 'SinarMatahari', 'ArahAnginTerkencang',\n",
              "       'KecepatanAnginTerkencang', 'ArahAngin9am', 'ArahAngin3pm',\n",
              "       'KecepatanAngin9am', 'KecepatanAngin3pm', 'Kelembaban9am',\n",
              "       'Kelembaban3pm', 'Tekanan9am', 'Tekanan3pm', 'Awan9am', 'Awan3pm',\n",
              "       'Suhu9am', 'Suhu3pm', 'BersaljuHariIni', 'BersaljuBesok'],\n",
              "      dtype='object')"
            ]
          },
          "metadata": {
            "tags": []
          },
          "execution_count": 99
        }
      ]
    },
    {
      "cell_type": "code",
      "metadata": {
        "colab": {
          "base_uri": "https://localhost:8080/"
        },
        "id": "b2mL0ogLlZC2",
        "outputId": "bbb991c9-deb8-4b54-d8b9-8f2dac28b9c9"
      },
      "source": [
        "#Setiap kolom bertipe apa\n",
        "salju_train.dtypes"
      ],
      "execution_count": 100,
      "outputs": [
        {
          "output_type": "execute_result",
          "data": {
            "text/plain": [
              "id                            int64\n",
              "Tanggal                      object\n",
              "KodeLokasi                   object\n",
              "SuhuMin                     float64\n",
              "SuhuMax                     float64\n",
              "Hujan                       float64\n",
              "Penguapan                   float64\n",
              "SinarMatahari               float64\n",
              "ArahAnginTerkencang          object\n",
              "KecepatanAnginTerkencang    float64\n",
              "ArahAngin9am                 object\n",
              "ArahAngin3pm                 object\n",
              "KecepatanAngin9am           float64\n",
              "KecepatanAngin3pm           float64\n",
              "Kelembaban9am               float64\n",
              "Kelembaban3pm               float64\n",
              "Tekanan9am                  float64\n",
              "Tekanan3pm                  float64\n",
              "Awan9am                     float64\n",
              "Awan3pm                     float64\n",
              "Suhu9am                     float64\n",
              "Suhu3pm                     float64\n",
              "BersaljuHariIni              object\n",
              "BersaljuBesok                object\n",
              "dtype: object"
            ]
          },
          "metadata": {
            "tags": []
          },
          "execution_count": 100
        }
      ]
    },
    {
      "cell_type": "markdown",
      "metadata": {
        "id": "TeMVGj5imUwT"
      },
      "source": [
        "**NOTE:** Ada beberapa atribut yang bertipe non-numerik sehingga harus diubah menjadi tipe numerik agar dapat diproses"
      ]
    },
    {
      "cell_type": "code",
      "metadata": {
        "colab": {
          "base_uri": "https://localhost:8080/",
          "height": 994
        },
        "id": "fqE-d0-UoQx0",
        "outputId": "7d55e1c7-5a77-4919-b38f-980e2ea4b11e"
      },
      "source": [
        "plt.figure(figsize=(15,15))\n",
        "korelasi = salju_train.corr(method='kendall')\n",
        "sns.heatmap(korelasi, annot=True)\n",
        "plt.show()"
      ],
      "execution_count": 101,
      "outputs": [
        {
          "output_type": "display_data",
          "data": {
            "image/png": "[encoded data removed]",
            "text/plain": [
              "<Figure size 1080x1080 with 2 Axes>"
            ]
          },
          "metadata": {
            "tags": [],
            "needs_background": "light"
          }
        }
      ]
    },
    {
      "cell_type": "markdown",
      "metadata": {
        "id": "IjwAWONXpyJv"
      },
      "source": [
        "Dengan menggunakan heatmap, bisa dilihat atribut mana saja yang mempunyai korelasi yang baik (yang mendekati 1). \n",
        "(**NOTE: atribut yang bertipe object tidak ada di heatmap**). "
      ]
    },
    {
      "cell_type": "markdown",
      "metadata": {
        "id": "IZ4Q_PJqugoS"
      },
      "source": [
        "Berdasarkan hasil heatmap di atas, atribut atau feature yang mempunyai korelasi yang tinggi ada di Suhu9am-SuhuMin, Suhu9am-SuhuMax, Suhu3pm-SuhuMax, dan Tekanan9am-Tekanan3pm. "
      ]
    },
    {
      "cell_type": "code",
      "metadata": {
        "id": "_PYcXmBhvp2B"
      },
      "source": [
        "#fungsi correlation\n",
        "def correlation(dataset, threshold):\n",
        "  col_corr = set()\n",
        "  corr_matrix = dataset.corr()\n",
        "  for i in range(len(corr_matrix.columns)):\n",
        "    for j in range(i):\n",
        "      if (corr_matrix.iloc[i, j]) > threshold:\n",
        "         colname = corr_matrix.columns[i]\n",
        "         col_corr.add(colname)\n",
        "  return col_corr"
      ],
      "execution_count": 102,
      "outputs": []
    },
    {
      "cell_type": "code",
      "metadata": {
        "colab": {
          "base_uri": "https://localhost:8080/"
        },
        "id": "kDa981XVwiy2",
        "outputId": "9d7247e3-e974-418b-a2f5-75e8b40b9322"
      },
      "source": [
        "corr_feature = correlation(salju_train, 0.7)\n",
        "len(set(corr_feature))"
      ],
      "execution_count": 103,
      "outputs": [
        {
          "output_type": "execute_result",
          "data": {
            "text/plain": [
              "4"
            ]
          },
          "metadata": {
            "tags": []
          },
          "execution_count": 103
        }
      ]
    },
    {
      "cell_type": "code",
      "metadata": {
        "colab": {
          "base_uri": "https://localhost:8080/"
        },
        "id": "1WMUJX2RwwC9",
        "outputId": "90e691c3-6a6e-40d0-e3ee-cd1858cda04d"
      },
      "source": [
        "corr_feature"
      ],
      "execution_count": 104,
      "outputs": [
        {
          "output_type": "execute_result",
          "data": {
            "text/plain": [
              "{'Suhu3pm', 'Suhu9am', 'SuhuMax', 'Tekanan3pm'}"
            ]
          },
          "metadata": {
            "tags": []
          },
          "execution_count": 104
        }
      ]
    },
    {
      "cell_type": "markdown",
      "metadata": {
        "id": "Qxn4h2hJxqkQ"
      },
      "source": [
        "Jika menggunakan fungsi correlation, atribut atau feature yang mempunyai korelasi yang tinggi (kasus ini adalah >0.7) ada 4 yaitu **Suhu3pm, Suhu9am, SuhuMax,** dan **Tekanan 3pm**. 4 atribut tersebut akan dipakai untuk feature selection dan modelling."
      ]
    },
    {
      "cell_type": "code",
      "metadata": {
        "id": "rZAGz5gp0yJZ"
      },
      "source": [
        "high_cor = ['Suhu3pm','Suhu9am','SuhuMax','Tekanan3pm']\n",
        "dataset = salju_train[high_cor]\n",
        "dataset.to_csv('dataset_baru.csv')"
      ],
      "execution_count": 105,
      "outputs": []
    },
    {
      "cell_type": "code",
      "metadata": {
        "colab": {
          "base_uri": "https://localhost:8080/",
          "height": 406
        },
        "id": "BWd4B2YF1Vlp",
        "outputId": "450f9092-f0ff-496c-c4f9-e8a00b838106"
      },
      "source": [
        "dataset"
      ],
      "execution_count": 106,
      "outputs": [
        {
          "output_type": "execute_result",
          "data": {
            "text/html": [
              "<div>\n",
              "<style scoped>\n",
              "    .dataframe tbody tr th:only-of-type {\n",
              "        vertical-align: middle;\n",
              "    }\n",
              "\n",
              "    .dataframe tbody tr th {\n",
              "        vertical-align: top;\n",
              "    }\n",
              "\n",
              "    .dataframe thead th {\n",
              "        text-align: right;\n",
              "    }\n",
              "</style>\n",
              "<table border=\"1\" class=\"dataframe\">\n",
              "  <thead>\n",
              "    <tr style=\"text-align: right;\">\n",
              "      <th></th>\n",
              "      <th>Suhu3pm</th>\n",
              "      <th>Suhu9am</th>\n",
              "      <th>SuhuMax</th>\n",
              "      <th>Tekanan3pm</th>\n",
              "    </tr>\n",
              "  </thead>\n",
              "  <tbody>\n",
              "    <tr>\n",
              "      <th>0</th>\n",
              "      <td>15.0</td>\n",
              "      <td>13.1</td>\n",
              "      <td>15.5</td>\n",
              "      <td>1018.5</td>\n",
              "    </tr>\n",
              "    <tr>\n",
              "      <th>1</th>\n",
              "      <td>15.5</td>\n",
              "      <td>11.9</td>\n",
              "      <td>17.0</td>\n",
              "      <td>1014.6</td>\n",
              "    </tr>\n",
              "    <tr>\n",
              "      <th>2</th>\n",
              "      <td>29.6</td>\n",
              "      <td>23.8</td>\n",
              "      <td>32.0</td>\n",
              "      <td>NaN</td>\n",
              "    </tr>\n",
              "    <tr>\n",
              "      <th>3</th>\n",
              "      <td>23.2</td>\n",
              "      <td>15.3</td>\n",
              "      <td>24.5</td>\n",
              "      <td>1016.9</td>\n",
              "    </tr>\n",
              "    <tr>\n",
              "      <th>4</th>\n",
              "      <td>18.1</td>\n",
              "      <td>12.4</td>\n",
              "      <td>20.3</td>\n",
              "      <td>1014.7</td>\n",
              "    </tr>\n",
              "    <tr>\n",
              "      <th>...</th>\n",
              "      <td>...</td>\n",
              "      <td>...</td>\n",
              "      <td>...</td>\n",
              "      <td>...</td>\n",
              "    </tr>\n",
              "    <tr>\n",
              "      <th>109090</th>\n",
              "      <td>22.1</td>\n",
              "      <td>22.0</td>\n",
              "      <td>23.7</td>\n",
              "      <td>1017.6</td>\n",
              "    </tr>\n",
              "    <tr>\n",
              "      <th>109091</th>\n",
              "      <td>24.4</td>\n",
              "      <td>23.8</td>\n",
              "      <td>25.2</td>\n",
              "      <td>1016.2</td>\n",
              "    </tr>\n",
              "    <tr>\n",
              "      <th>109092</th>\n",
              "      <td>19.8</td>\n",
              "      <td>12.6</td>\n",
              "      <td>20.4</td>\n",
              "      <td>1010.6</td>\n",
              "    </tr>\n",
              "    <tr>\n",
              "      <th>109093</th>\n",
              "      <td>29.2</td>\n",
              "      <td>21.7</td>\n",
              "      <td>29.8</td>\n",
              "      <td>1015.8</td>\n",
              "    </tr>\n",
              "    <tr>\n",
              "      <th>109094</th>\n",
              "      <td>23.3</td>\n",
              "      <td>20.4</td>\n",
              "      <td>27.4</td>\n",
              "      <td>1005.4</td>\n",
              "    </tr>\n",
              "  </tbody>\n",
              "</table>\n",
              "<p>109095 rows × 4 columns</p>\n",
              "</div>"
            ],
            "text/plain": [
              "        Suhu3pm  Suhu9am  SuhuMax  Tekanan3pm\n",
              "0          15.0     13.1     15.5      1018.5\n",
              "1          15.5     11.9     17.0      1014.6\n",
              "2          29.6     23.8     32.0         NaN\n",
              "3          23.2     15.3     24.5      1016.9\n",
              "4          18.1     12.4     20.3      1014.7\n",
              "...         ...      ...      ...         ...\n",
              "109090     22.1     22.0     23.7      1017.6\n",
              "109091     24.4     23.8     25.2      1016.2\n",
              "109092     19.8     12.6     20.4      1010.6\n",
              "109093     29.2     21.7     29.8      1015.8\n",
              "109094     23.3     20.4     27.4      1005.4\n",
              "\n",
              "[109095 rows x 4 columns]"
            ]
          },
          "metadata": {
            "tags": []
          },
          "execution_count": 106
        }
      ]
    },
    {
      "cell_type": "markdown",
      "metadata": {
        "id": "cpbK3xLsu8q5"
      },
      "source": [
        "### 2. Pre-Processing"
      ]
    },
    {
      "cell_type": "markdown",
      "metadata": {
        "id": "Sqki9KYYWm6_"
      },
      "source": [
        "1. Mengecek dan mengatasi data yang terduplicate\n",
        "2. Mengecek dan mengatasi missing value\n",
        "3. Mengecek dan mengatasi data outlier\n",
        "4. Feature scaling\n",
        "5. PCA"
      ]
    },
    {
      "cell_type": "code",
      "metadata": {
        "colab": {
          "base_uri": "https://localhost:8080/"
        },
        "id": "bnl0wmVV2LD9",
        "outputId": "8771b561-c325-4fcb-fab6-555b3852832b"
      },
      "source": [
        "#melihat jika ada data yang duplicate\n",
        "dataset.duplicated().sum()"
      ],
      "execution_count": 107,
      "outputs": [
        {
          "output_type": "execute_result",
          "data": {
            "text/plain": [
              "786"
            ]
          },
          "metadata": {
            "tags": []
          },
          "execution_count": 107
        }
      ]
    },
    {
      "cell_type": "markdown",
      "metadata": {
        "id": "Xu3sk-vk2jEO"
      },
      "source": [
        "Terdapat 786 data yang duplicate. Karena jumlahnya yang jauh lebih sedikit dari dataset awal yang berjumlah 109095, maka data yang terduplikasi akan didrop"
      ]
    },
    {
      "cell_type": "code",
      "metadata": {
        "colab": {
          "base_uri": "https://localhost:8080/",
          "height": 406
        },
        "id": "tL_l9bt72zZY",
        "outputId": "8d6bfa94-b51d-472e-9f4a-9993d01edfe4"
      },
      "source": [
        "dataset = dataset.drop_duplicates()\n",
        "dataset"
      ],
      "execution_count": 108,
      "outputs": [
        {
          "output_type": "execute_result",
          "data": {
            "text/html": [
              "<div>\n",
              "<style scoped>\n",
              "    .dataframe tbody tr th:only-of-type {\n",
              "        vertical-align: middle;\n",
              "    }\n",
              "\n",
              "    .dataframe tbody tr th {\n",
              "        vertical-align: top;\n",
              "    }\n",
              "\n",
              "    .dataframe thead th {\n",
              "        text-align: right;\n",
              "    }\n",
              "</style>\n",
              "<table border=\"1\" class=\"dataframe\">\n",
              "  <thead>\n",
              "    <tr style=\"text-align: right;\">\n",
              "      <th></th>\n",
              "      <th>Suhu3pm</th>\n",
              "      <th>Suhu9am</th>\n",
              "      <th>SuhuMax</th>\n",
              "      <th>Tekanan3pm</th>\n",
              "    </tr>\n",
              "  </thead>\n",
              "  <tbody>\n",
              "    <tr>\n",
              "      <th>0</th>\n",
              "      <td>15.0</td>\n",
              "      <td>13.1</td>\n",
              "      <td>15.5</td>\n",
              "      <td>1018.5</td>\n",
              "    </tr>\n",
              "    <tr>\n",
              "      <th>1</th>\n",
              "      <td>15.5</td>\n",
              "      <td>11.9</td>\n",
              "      <td>17.0</td>\n",
              "      <td>1014.6</td>\n",
              "    </tr>\n",
              "    <tr>\n",
              "      <th>2</th>\n",
              "      <td>29.6</td>\n",
              "      <td>23.8</td>\n",
              "      <td>32.0</td>\n",
              "      <td>NaN</td>\n",
              "    </tr>\n",
              "    <tr>\n",
              "      <th>3</th>\n",
              "      <td>23.2</td>\n",
              "      <td>15.3</td>\n",
              "      <td>24.5</td>\n",
              "      <td>1016.9</td>\n",
              "    </tr>\n",
              "    <tr>\n",
              "      <th>4</th>\n",
              "      <td>18.1</td>\n",
              "      <td>12.4</td>\n",
              "      <td>20.3</td>\n",
              "      <td>1014.7</td>\n",
              "    </tr>\n",
              "    <tr>\n",
              "      <th>...</th>\n",
              "      <td>...</td>\n",
              "      <td>...</td>\n",
              "      <td>...</td>\n",
              "      <td>...</td>\n",
              "    </tr>\n",
              "    <tr>\n",
              "      <th>109090</th>\n",
              "      <td>22.1</td>\n",
              "      <td>22.0</td>\n",
              "      <td>23.7</td>\n",
              "      <td>1017.6</td>\n",
              "    </tr>\n",
              "    <tr>\n",
              "      <th>109091</th>\n",
              "      <td>24.4</td>\n",
              "      <td>23.8</td>\n",
              "      <td>25.2</td>\n",
              "      <td>1016.2</td>\n",
              "    </tr>\n",
              "    <tr>\n",
              "      <th>109092</th>\n",
              "      <td>19.8</td>\n",
              "      <td>12.6</td>\n",
              "      <td>20.4</td>\n",
              "      <td>1010.6</td>\n",
              "    </tr>\n",
              "    <tr>\n",
              "      <th>109093</th>\n",
              "      <td>29.2</td>\n",
              "      <td>21.7</td>\n",
              "      <td>29.8</td>\n",
              "      <td>1015.8</td>\n",
              "    </tr>\n",
              "    <tr>\n",
              "      <th>109094</th>\n",
              "      <td>23.3</td>\n",
              "      <td>20.4</td>\n",
              "      <td>27.4</td>\n",
              "      <td>1005.4</td>\n",
              "    </tr>\n",
              "  </tbody>\n",
              "</table>\n",
              "<p>108309 rows × 4 columns</p>\n",
              "</div>"
            ],
            "text/plain": [
              "        Suhu3pm  Suhu9am  SuhuMax  Tekanan3pm\n",
              "0          15.0     13.1     15.5      1018.5\n",
              "1          15.5     11.9     17.0      1014.6\n",
              "2          29.6     23.8     32.0         NaN\n",
              "3          23.2     15.3     24.5      1016.9\n",
              "4          18.1     12.4     20.3      1014.7\n",
              "...         ...      ...      ...         ...\n",
              "109090     22.1     22.0     23.7      1017.6\n",
              "109091     24.4     23.8     25.2      1016.2\n",
              "109092     19.8     12.6     20.4      1010.6\n",
              "109093     29.2     21.7     29.8      1015.8\n",
              "109094     23.3     20.4     27.4      1005.4\n",
              "\n",
              "[108309 rows x 4 columns]"
            ]
          },
          "metadata": {
            "tags": []
          },
          "execution_count": 108
        }
      ]
    },
    {
      "cell_type": "code",
      "metadata": {
        "colab": {
          "base_uri": "https://localhost:8080/"
        },
        "id": "UTZKxrTSpjBv",
        "outputId": "5a798aa9-4ee1-4563-9067-6270c5c7a98f"
      },
      "source": [
        "#Selanjutnya melihat jika ada data null\n",
        "dataset.isnull().sum()"
      ],
      "execution_count": 109,
      "outputs": [
        {
          "output_type": "execute_result",
          "data": {
            "text/plain": [
              "Suhu3pm        2013\n",
              "Suhu9am         695\n",
              "SuhuMax         327\n",
              "Tekanan3pm    10561\n",
              "dtype: int64"
            ]
          },
          "metadata": {
            "tags": []
          },
          "execution_count": 109
        }
      ]
    },
    {
      "cell_type": "markdown",
      "metadata": {
        "id": "pEVRpfvDUtaW"
      },
      "source": [
        "Bisa dilihat bahwa ada banyak data null. Maka dari itu, akan dilakukannya pengubahan dari data null menjadi nilai hasil mean atau median dari seluruh dataset di setiap atribut. Dataset yang null tidak akan didrop karena takut hasilnya mempengaruhi model ML."
      ]
    },
    {
      "cell_type": "markdown",
      "metadata": {
        "id": "upd5MHz1VMzE"
      },
      "source": [
        "Untuk menentukan cara mana yang cocok ketika mengubah data-data null tersebut, dataset harus diketahui apakah dataset tersebut skewed atau tidak. Skewness merupakan teknik pengukuran apabila distribusi tiap data simetrik atau tidak. Jika rentan nilai skewness berada di antara 2 dan -2, maka dipakailah mean. Jika tidak, dipakailah median"
      ]
    },
    {
      "cell_type": "code",
      "metadata": {
        "colab": {
          "base_uri": "https://localhost:8080/"
        },
        "id": "RPb5QC0e5b1F",
        "outputId": "59d8d919-c348-446f-a1b2-c21dd67e0112"
      },
      "source": [
        "#melihat apakah data tersebut skew\n",
        "dataset.skew(axis=0, skipna=True)"
      ],
      "execution_count": 110,
      "outputs": [
        {
          "output_type": "execute_result",
          "data": {
            "text/plain": [
              "Suhu3pm       0.237882\n",
              "Suhu9am       0.085057\n",
              "SuhuMax       0.223099\n",
              "Tekanan3pm   -0.049346\n",
              "dtype: float64"
            ]
          },
          "metadata": {
            "tags": []
          },
          "execution_count": 110
        }
      ]
    },
    {
      "cell_type": "markdown",
      "metadata": {
        "id": "UEsVmIWJSixU"
      },
      "source": [
        "Berdasarkan hasil skewness dari atas, karena hasil rentannya masih di dalam 2 dan -2, maka metode yang akan dipakai adalah mean"
      ]
    },
    {
      "cell_type": "code",
      "metadata": {
        "colab": {
          "base_uri": "https://localhost:8080/"
        },
        "id": "7VTAzHvu1eNk",
        "outputId": "4f67cc55-fb35-437e-f037-df9c551d6b3c"
      },
      "source": [
        "dataset.fillna(dataset.mean(), inplace=True)"
      ],
      "execution_count": 111,
      "outputs": [
        {
          "output_type": "stream",
          "text": [
            "/usr/local/lib/python3.7/dist-packages/pandas/core/series.py:4536: SettingWithCopyWarning: \n",
            "A value is trying to be set on a copy of a slice from a DataFrame\n",
            "\n",
            "See the caveats in the documentation: https://pandas.pydata.org/pandas-docs/stable/user_guide/indexing.html#returning-a-view-versus-a-copy\n",
            "  downcast=downcast,\n"
          ],
          "name": "stderr"
        }
      ]
    },
    {
      "cell_type": "code",
      "metadata": {
        "colab": {
          "base_uri": "https://localhost:8080/"
        },
        "id": "V7HULAnDWKFz",
        "outputId": "929be854-db58-4bfa-b8d9-921d5fd59ae1"
      },
      "source": [
        "#cek apabila ada data null\n",
        "dataset.isnull().sum()"
      ],
      "execution_count": 112,
      "outputs": [
        {
          "output_type": "execute_result",
          "data": {
            "text/plain": [
              "Suhu3pm       0\n",
              "Suhu9am       0\n",
              "SuhuMax       0\n",
              "Tekanan3pm    0\n",
              "dtype: int64"
            ]
          },
          "metadata": {
            "tags": []
          },
          "execution_count": 112
        }
      ]
    },
    {
      "cell_type": "code",
      "metadata": {
        "colab": {
          "base_uri": "https://localhost:8080/"
        },
        "id": "BP1qEimbWMI-",
        "outputId": "854f7b07-3239-485d-cec0-ee971af7b10a"
      },
      "source": [
        "dataset.describe"
      ],
      "execution_count": 113,
      "outputs": [
        {
          "output_type": "execute_result",
          "data": {
            "text/plain": [
              "<bound method NDFrame.describe of         Suhu3pm  Suhu9am  SuhuMax   Tekanan3pm\n",
              "0          15.0     13.1     15.5  1018.500000\n",
              "1          15.5     11.9     17.0  1014.600000\n",
              "2          29.6     23.8     32.0  1015.253036\n",
              "3          23.2     15.3     24.5  1016.900000\n",
              "4          18.1     12.4     20.3  1014.700000\n",
              "...         ...      ...      ...          ...\n",
              "109090     22.1     22.0     23.7  1017.600000\n",
              "109091     24.4     23.8     25.2  1016.200000\n",
              "109092     19.8     12.6     20.4  1010.600000\n",
              "109093     29.2     21.7     29.8  1015.800000\n",
              "109094     23.3     20.4     27.4  1005.400000\n",
              "\n",
              "[108309 rows x 4 columns]>"
            ]
          },
          "metadata": {
            "tags": []
          },
          "execution_count": 113
        }
      ]
    },
    {
      "cell_type": "markdown",
      "metadata": {
        "id": "_A98d_Cjfxkk"
      },
      "source": [
        "Selanjutnya, pengecekan adanya data outlier akan dilakukan dengan metode IQR"
      ]
    },
    {
      "cell_type": "code",
      "metadata": {
        "colab": {
          "base_uri": "https://localhost:8080/"
        },
        "id": "RcYZzKSYZORq",
        "outputId": "4c5a2244-50e7-4a36-f6dc-1977417ebd9b"
      },
      "source": [
        "#mengecek outlier dengan kalkulasi IQR\n",
        "\n",
        "#score IQR\n",
        "q1 = dataset.quantile(0.25)\n",
        "q3 = dataset.quantile(0.75)\n",
        "iqr = q3 - q1\n",
        "iqr"
      ],
      "execution_count": 114,
      "outputs": [
        {
          "output_type": "execute_result",
          "data": {
            "text/plain": [
              "Suhu3pm        9.6\n",
              "Suhu9am        9.2\n",
              "SuhuMax       10.3\n",
              "Tekanan3pm     8.4\n",
              "dtype: float64"
            ]
          },
          "metadata": {
            "tags": []
          },
          "execution_count": 114
        }
      ]
    },
    {
      "cell_type": "code",
      "metadata": {
        "colab": {
          "base_uri": "https://localhost:8080/",
          "height": 406
        },
        "id": "NNFCdACybZwa",
        "outputId": "94f63ce7-b3e5-4a5c-8b7c-a40dbde52a6f"
      },
      "source": [
        "(dataset < (q1-1.5*iqr)) | (dataset > (q3+1.5*iqr))"
      ],
      "execution_count": 115,
      "outputs": [
        {
          "output_type": "execute_result",
          "data": {
            "text/html": [
              "<div>\n",
              "<style scoped>\n",
              "    .dataframe tbody tr th:only-of-type {\n",
              "        vertical-align: middle;\n",
              "    }\n",
              "\n",
              "    .dataframe tbody tr th {\n",
              "        vertical-align: top;\n",
              "    }\n",
              "\n",
              "    .dataframe thead th {\n",
              "        text-align: right;\n",
              "    }\n",
              "</style>\n",
              "<table border=\"1\" class=\"dataframe\">\n",
              "  <thead>\n",
              "    <tr style=\"text-align: right;\">\n",
              "      <th></th>\n",
              "      <th>Suhu3pm</th>\n",
              "      <th>Suhu9am</th>\n",
              "      <th>SuhuMax</th>\n",
              "      <th>Tekanan3pm</th>\n",
              "    </tr>\n",
              "  </thead>\n",
              "  <tbody>\n",
              "    <tr>\n",
              "      <th>0</th>\n",
              "      <td>False</td>\n",
              "      <td>False</td>\n",
              "      <td>False</td>\n",
              "      <td>False</td>\n",
              "    </tr>\n",
              "    <tr>\n",
              "      <th>1</th>\n",
              "      <td>False</td>\n",
              "      <td>False</td>\n",
              "      <td>False</td>\n",
              "      <td>False</td>\n",
              "    </tr>\n",
              "    <tr>\n",
              "      <th>2</th>\n",
              "      <td>False</td>\n",
              "      <td>False</td>\n",
              "      <td>False</td>\n",
              "      <td>False</td>\n",
              "    </tr>\n",
              "    <tr>\n",
              "      <th>3</th>\n",
              "      <td>False</td>\n",
              "      <td>False</td>\n",
              "      <td>False</td>\n",
              "      <td>False</td>\n",
              "    </tr>\n",
              "    <tr>\n",
              "      <th>4</th>\n",
              "      <td>False</td>\n",
              "      <td>False</td>\n",
              "      <td>False</td>\n",
              "      <td>False</td>\n",
              "    </tr>\n",
              "    <tr>\n",
              "      <th>...</th>\n",
              "      <td>...</td>\n",
              "      <td>...</td>\n",
              "      <td>...</td>\n",
              "      <td>...</td>\n",
              "    </tr>\n",
              "    <tr>\n",
              "      <th>109090</th>\n",
              "      <td>False</td>\n",
              "      <td>False</td>\n",
              "      <td>False</td>\n",
              "      <td>False</td>\n",
              "    </tr>\n",
              "    <tr>\n",
              "      <th>109091</th>\n",
              "      <td>False</td>\n",
              "      <td>False</td>\n",
              "      <td>False</td>\n",
              "      <td>False</td>\n",
              "    </tr>\n",
              "    <tr>\n",
              "      <th>109092</th>\n",
              "      <td>False</td>\n",
              "      <td>False</td>\n",
              "      <td>False</td>\n",
              "      <td>False</td>\n",
              "    </tr>\n",
              "    <tr>\n",
              "      <th>109093</th>\n",
              "      <td>False</td>\n",
              "      <td>False</td>\n",
              "      <td>False</td>\n",
              "      <td>False</td>\n",
              "    </tr>\n",
              "    <tr>\n",
              "      <th>109094</th>\n",
              "      <td>False</td>\n",
              "      <td>False</td>\n",
              "      <td>False</td>\n",
              "      <td>False</td>\n",
              "    </tr>\n",
              "  </tbody>\n",
              "</table>\n",
              "<p>108309 rows × 4 columns</p>\n",
              "</div>"
            ],
            "text/plain": [
              "        Suhu3pm  Suhu9am  SuhuMax  Tekanan3pm\n",
              "0         False    False    False       False\n",
              "1         False    False    False       False\n",
              "2         False    False    False       False\n",
              "3         False    False    False       False\n",
              "4         False    False    False       False\n",
              "...         ...      ...      ...         ...\n",
              "109090    False    False    False       False\n",
              "109091    False    False    False       False\n",
              "109092    False    False    False       False\n",
              "109093    False    False    False       False\n",
              "109094    False    False    False       False\n",
              "\n",
              "[108309 rows x 4 columns]"
            ]
          },
          "metadata": {
            "tags": []
          },
          "execution_count": 115
        }
      ]
    },
    {
      "cell_type": "markdown",
      "metadata": {
        "id": "k9asRYvFgITe"
      },
      "source": [
        "Jika ada data yang diberi label 'True', data tersebut merupakan data outlier dan jika diberi label 'False', data tersebut valid/bukan outlier. Setelah mengecek adanya data outlier, maka data outlier tersebut harus diuruskan."
      ]
    },
    {
      "cell_type": "code",
      "metadata": {
        "id": "iXEI-FOhgdkS"
      },
      "source": [
        "#cara mengatasi data outlier\n",
        "dataset = dataset[~((dataset < (q1-1.5*iqr)) | (dataset > (q3+1.5*iqr))).any(axis=1)]"
      ],
      "execution_count": 116,
      "outputs": []
    },
    {
      "cell_type": "code",
      "metadata": {
        "colab": {
          "base_uri": "https://localhost:8080/"
        },
        "id": "YHrS3ddGg6s3",
        "outputId": "38df4030-eb11-4f02-a5de-c062e82c71fc"
      },
      "source": [
        "dataset.shape"
      ],
      "execution_count": 117,
      "outputs": [
        {
          "output_type": "execute_result",
          "data": {
            "text/plain": [
              "(105784, 4)"
            ]
          },
          "metadata": {
            "tags": []
          },
          "execution_count": 117
        }
      ]
    },
    {
      "cell_type": "code",
      "metadata": {
        "colab": {
          "base_uri": "https://localhost:8080/",
          "height": 406
        },
        "id": "JlxyPRgdhAwt",
        "outputId": "b5be19d1-02ab-455d-e21b-737597153b38"
      },
      "source": [
        "(dataset < (q1-1.5*iqr)) | (dataset > (q3+1.5*iqr))"
      ],
      "execution_count": 118,
      "outputs": [
        {
          "output_type": "execute_result",
          "data": {
            "text/html": [
              "<div>\n",
              "<style scoped>\n",
              "    .dataframe tbody tr th:only-of-type {\n",
              "        vertical-align: middle;\n",
              "    }\n",
              "\n",
              "    .dataframe tbody tr th {\n",
              "        vertical-align: top;\n",
              "    }\n",
              "\n",
              "    .dataframe thead th {\n",
              "        text-align: right;\n",
              "    }\n",
              "</style>\n",
              "<table border=\"1\" class=\"dataframe\">\n",
              "  <thead>\n",
              "    <tr style=\"text-align: right;\">\n",
              "      <th></th>\n",
              "      <th>Suhu3pm</th>\n",
              "      <th>Suhu9am</th>\n",
              "      <th>SuhuMax</th>\n",
              "      <th>Tekanan3pm</th>\n",
              "    </tr>\n",
              "  </thead>\n",
              "  <tbody>\n",
              "    <tr>\n",
              "      <th>0</th>\n",
              "      <td>False</td>\n",
              "      <td>False</td>\n",
              "      <td>False</td>\n",
              "      <td>False</td>\n",
              "    </tr>\n",
              "    <tr>\n",
              "      <th>1</th>\n",
              "      <td>False</td>\n",
              "      <td>False</td>\n",
              "      <td>False</td>\n",
              "      <td>False</td>\n",
              "    </tr>\n",
              "    <tr>\n",
              "      <th>2</th>\n",
              "      <td>False</td>\n",
              "      <td>False</td>\n",
              "      <td>False</td>\n",
              "      <td>False</td>\n",
              "    </tr>\n",
              "    <tr>\n",
              "      <th>3</th>\n",
              "      <td>False</td>\n",
              "      <td>False</td>\n",
              "      <td>False</td>\n",
              "      <td>False</td>\n",
              "    </tr>\n",
              "    <tr>\n",
              "      <th>4</th>\n",
              "      <td>False</td>\n",
              "      <td>False</td>\n",
              "      <td>False</td>\n",
              "      <td>False</td>\n",
              "    </tr>\n",
              "    <tr>\n",
              "      <th>...</th>\n",
              "      <td>...</td>\n",
              "      <td>...</td>\n",
              "      <td>...</td>\n",
              "      <td>...</td>\n",
              "    </tr>\n",
              "    <tr>\n",
              "      <th>109090</th>\n",
              "      <td>False</td>\n",
              "      <td>False</td>\n",
              "      <td>False</td>\n",
              "      <td>False</td>\n",
              "    </tr>\n",
              "    <tr>\n",
              "      <th>109091</th>\n",
              "      <td>False</td>\n",
              "      <td>False</td>\n",
              "      <td>False</td>\n",
              "      <td>False</td>\n",
              "    </tr>\n",
              "    <tr>\n",
              "      <th>109092</th>\n",
              "      <td>False</td>\n",
              "      <td>False</td>\n",
              "      <td>False</td>\n",
              "      <td>False</td>\n",
              "    </tr>\n",
              "    <tr>\n",
              "      <th>109093</th>\n",
              "      <td>False</td>\n",
              "      <td>False</td>\n",
              "      <td>False</td>\n",
              "      <td>False</td>\n",
              "    </tr>\n",
              "    <tr>\n",
              "      <th>109094</th>\n",
              "      <td>False</td>\n",
              "      <td>False</td>\n",
              "      <td>False</td>\n",
              "      <td>False</td>\n",
              "    </tr>\n",
              "  </tbody>\n",
              "</table>\n",
              "<p>105784 rows × 4 columns</p>\n",
              "</div>"
            ],
            "text/plain": [
              "        Suhu3pm  Suhu9am  SuhuMax  Tekanan3pm\n",
              "0         False    False    False       False\n",
              "1         False    False    False       False\n",
              "2         False    False    False       False\n",
              "3         False    False    False       False\n",
              "4         False    False    False       False\n",
              "...         ...      ...      ...         ...\n",
              "109090    False    False    False       False\n",
              "109091    False    False    False       False\n",
              "109092    False    False    False       False\n",
              "109093    False    False    False       False\n",
              "109094    False    False    False       False\n",
              "\n",
              "[105784 rows x 4 columns]"
            ]
          },
          "metadata": {
            "tags": []
          },
          "execution_count": 118
        }
      ]
    },
    {
      "cell_type": "markdown",
      "metadata": {
        "id": "PD_fbrmwhcVS"
      },
      "source": [
        "Setelah data outlier sudah diurus, bisa keliatan baris dataset menjadi 105784 data. Bisa juga dilihat bahwa semua label adalah 'False' dimana dataset tidak ada lagi outlier."
      ]
    },
    {
      "cell_type": "markdown",
      "metadata": {
        "id": "kBgK9_S-h8A1"
      },
      "source": [
        "Langkah selanjutnya di pre-processing adalah feature scalling. "
      ]
    },
    {
      "cell_type": "code",
      "metadata": {
        "colab": {
          "base_uri": "https://localhost:8080/",
          "height": 282
        },
        "id": "xznhav9RhQ09",
        "outputId": "99713eb4-ed5f-4ad6-fe64-3c8d41d2bd13"
      },
      "source": [
        "sns.boxplot(data=dataset)"
      ],
      "execution_count": 119,
      "outputs": [
        {
          "output_type": "execute_result",
          "data": {
            "text/plain": [
              "<matplotlib.axes._subplots.AxesSubplot at 0x7faaee9229d0>"
            ]
          },
          "metadata": {
            "tags": []
          },
          "execution_count": 119
        },
        {
          "output_type": "display_data",
          "data": {
            "image/png": "[encoded data removed]",
            "text/plain": [
              "<Figure size 432x288 with 1 Axes>"
            ]
          },
          "metadata": {
            "tags": [],
            "needs_background": "light"
          }
        }
      ]
    },
    {
      "cell_type": "markdown",
      "metadata": {
        "id": "KbKuWw-xiZRm"
      },
      "source": [
        "Bisa terlihat bahwa data Tekanan3pm mempunyai rentan yang sangat jauh dari Suhu3pm, Suhu9pm, dan SuhuMax. Maka dari itu, dilakukannya feature scalling supaya semuat attribut mempunyai rentan yang sama. Metode feature scalling yang akan digunakan adalah **normalisasi**."
      ]
    },
    {
      "cell_type": "code",
      "metadata": {
        "colab": {
          "base_uri": "https://localhost:8080/"
        },
        "id": "fkl_I5YMSHR8",
        "outputId": "798dda65-6337-4bc9-9e08-488e8875645d"
      },
      "source": [
        "from sklearn.preprocessing import MinMaxScaler\n",
        "\n",
        "scale = MinMaxScaler().fit_transform(dataset)\n",
        "scale"
      ],
      "execution_count": 120,
      "outputs": [
        {
          "output_type": "execute_result",
          "data": {
            "text/plain": [
              "array([[0.33072917, 0.39509537, 0.3163017 , 0.59701493],\n",
              "       [0.34375   , 0.36239782, 0.35279805, 0.48059701],\n",
              "       [0.7109375 , 0.6866485 , 0.71776156, 0.50009064],\n",
              "       ...,\n",
              "       [0.45572917, 0.38147139, 0.43552311, 0.36119403],\n",
              "       [0.70052083, 0.62942779, 0.66423358, 0.51641791],\n",
              "       [0.546875  , 0.59400545, 0.60583942, 0.20597015]])"
            ]
          },
          "metadata": {
            "tags": []
          },
          "execution_count": 120
        }
      ]
    },
    {
      "cell_type": "code",
      "metadata": {
        "colab": {
          "base_uri": "https://localhost:8080/",
          "height": 282
        },
        "id": "cHgSsfkNp3BT",
        "outputId": "0a7df661-b015-4e04-bd34-7aa5c21711b4"
      },
      "source": [
        "sns.boxplot(data=scale)"
      ],
      "execution_count": 121,
      "outputs": [
        {
          "output_type": "execute_result",
          "data": {
            "text/plain": [
              "<matplotlib.axes._subplots.AxesSubplot at 0x7faaee659e50>"
            ]
          },
          "metadata": {
            "tags": []
          },
          "execution_count": 121
        },
        {
          "output_type": "display_data",
          "data": {
            "image/png": "[encoded data removed]",
            "text/plain": [
              "<Figure size 432x288 with 1 Axes>"
            ]
          },
          "metadata": {
            "tags": [],
            "needs_background": "light"
          }
        }
      ]
    },
    {
      "cell_type": "markdown",
      "metadata": {
        "id": "72rPxpspp9x-"
      },
      "source": [
        "Hasil di atas menunjukkan bahwa semua data dari 4 atribut sudah berada di rentan yang sama sehingga mudah untuk pembuatan modeling."
      ]
    },
    {
      "cell_type": "markdown",
      "metadata": {
        "id": "wsxO_wMkqKGS"
      },
      "source": [
        "Langkah terakhir adalah melakukan PCA untuk menentukan x dan y yang tepat dan pas"
      ]
    },
    {
      "cell_type": "code",
      "metadata": {
        "colab": {
          "base_uri": "https://localhost:8080/",
          "height": 406
        },
        "id": "Y6B0gz1vp67w",
        "outputId": "a6efc9f5-3f62-495e-e4ef-640d25de51c3"
      },
      "source": [
        "from sklearn.decomposition import PCA\n",
        "\n",
        "pca = PCA(n_components=2)\n",
        "principalComponents = pca.fit_transform(scale)\n",
        "datatrain_baru = pd.DataFrame(data=principalComponents, columns=['x','y'])\n",
        "datatrain_baru"
      ],
      "execution_count": 122,
      "outputs": [
        {
          "output_type": "execute_result",
          "data": {
            "text/html": [
              "<div>\n",
              "<style scoped>\n",
              "    .dataframe tbody tr th:only-of-type {\n",
              "        vertical-align: middle;\n",
              "    }\n",
              "\n",
              "    .dataframe tbody tr th {\n",
              "        vertical-align: top;\n",
              "    }\n",
              "\n",
              "    .dataframe thead th {\n",
              "        text-align: right;\n",
              "    }\n",
              "</style>\n",
              "<table border=\"1\" class=\"dataframe\">\n",
              "  <thead>\n",
              "    <tr style=\"text-align: right;\">\n",
              "      <th></th>\n",
              "      <th>x</th>\n",
              "      <th>y</th>\n",
              "    </tr>\n",
              "  </thead>\n",
              "  <tbody>\n",
              "    <tr>\n",
              "      <th>0</th>\n",
              "      <td>-0.289163</td>\n",
              "      <td>0.022582</td>\n",
              "    </tr>\n",
              "    <tr>\n",
              "      <th>1</th>\n",
              "      <td>-0.235528</td>\n",
              "      <td>0.121873</td>\n",
              "    </tr>\n",
              "    <tr>\n",
              "      <th>2</th>\n",
              "      <td>0.320673</td>\n",
              "      <td>-0.131188</td>\n",
              "    </tr>\n",
              "    <tr>\n",
              "      <th>3</th>\n",
              "      <td>-0.007652</td>\n",
              "      <td>-0.053902</td>\n",
              "    </tr>\n",
              "    <tr>\n",
              "      <th>4</th>\n",
              "      <td>-0.150283</td>\n",
              "      <td>0.079151</td>\n",
              "    </tr>\n",
              "    <tr>\n",
              "      <th>...</th>\n",
              "      <td>...</td>\n",
              "      <td>...</td>\n",
              "    </tr>\n",
              "    <tr>\n",
              "      <th>105779</th>\n",
              "      <td>0.055283</td>\n",
              "      <td>-0.085892</td>\n",
              "    </tr>\n",
              "    <tr>\n",
              "      <th>105780</th>\n",
              "      <td>0.148933</td>\n",
              "      <td>-0.079870</td>\n",
              "    </tr>\n",
              "    <tr>\n",
              "      <th>105781</th>\n",
              "      <td>-0.075422</td>\n",
              "      <td>0.177788</td>\n",
              "    </tr>\n",
              "    <tr>\n",
              "      <th>105782</th>\n",
              "      <td>0.250046</td>\n",
              "      <td>-0.122653</td>\n",
              "    </tr>\n",
              "    <tr>\n",
              "      <th>105783</th>\n",
              "      <td>0.236210</td>\n",
              "      <td>0.224894</td>\n",
              "    </tr>\n",
              "  </tbody>\n",
              "</table>\n",
              "<p>105784 rows × 2 columns</p>\n",
              "</div>"
            ],
            "text/plain": [
              "               x         y\n",
              "0      -0.289163  0.022582\n",
              "1      -0.235528  0.121873\n",
              "2       0.320673 -0.131188\n",
              "3      -0.007652 -0.053902\n",
              "4      -0.150283  0.079151\n",
              "...          ...       ...\n",
              "105779  0.055283 -0.085892\n",
              "105780  0.148933 -0.079870\n",
              "105781 -0.075422  0.177788\n",
              "105782  0.250046 -0.122653\n",
              "105783  0.236210  0.224894\n",
              "\n",
              "[105784 rows x 2 columns]"
            ]
          },
          "metadata": {
            "tags": []
          },
          "execution_count": 122
        }
      ]
    },
    {
      "cell_type": "code",
      "metadata": {
        "colab": {
          "base_uri": "https://localhost:8080/",
          "height": 278
        },
        "id": "n4pHd1CUq9oK",
        "outputId": "722c18d7-e43f-45c3-885a-d771ec6d4a07"
      },
      "source": [
        "plt.scatter(scale[:,0], scale[:,1], c='tan')\n",
        "plt.xlabel('Principal Components #1')\n",
        "plt.ylabel('Principal Components #2')\n",
        "plt.show()"
      ],
      "execution_count": 123,
      "outputs": [
        {
          "output_type": "display_data",
          "data": {
            "image/png": "[encoded data removed]",
            "text/plain": [
              "<Figure size 432x288 with 1 Axes>"
            ]
          },
          "metadata": {
            "tags": [],
            "needs_background": "light"
          }
        }
      ]
    },
    {
      "cell_type": "markdown",
      "metadata": {
        "id": "KjeRymkEsLoM"
      },
      "source": [
        "### 3. Pemodelan: K-Means"
      ]
    },
    {
      "cell_type": "markdown",
      "metadata": {
        "id": "yWdL2u3bdbxP"
      },
      "source": [
        "Setelah melakukan data eksplorasi dan pre-processing, saatnya membuat model clustering. Pemodelan yang akan digunakan adalah K-Means."
      ]
    },
    {
      "cell_type": "code",
      "metadata": {
        "id": "MIjyzZL8sZnO"
      },
      "source": [
        "X = datatrain_baru.iloc[:,[0,1]].values"
      ],
      "execution_count": 124,
      "outputs": []
    },
    {
      "cell_type": "code",
      "metadata": {
        "colab": {
          "base_uri": "https://localhost:8080/"
        },
        "id": "JICwZem63cxB",
        "outputId": "61f3bff9-c151-4663-c1c9-8edc60f7832e"
      },
      "source": [
        "X.shape"
      ],
      "execution_count": 125,
      "outputs": [
        {
          "output_type": "execute_result",
          "data": {
            "text/plain": [
              "(105784, 2)"
            ]
          },
          "metadata": {
            "tags": []
          },
          "execution_count": 125
        }
      ]
    },
    {
      "cell_type": "code",
      "metadata": {
        "id": "2abU6Hkg3rbT"
      },
      "source": [
        "m = X.shape[0] #jumlah data/baris\n",
        "n = X.shape[1] #jumlah feature/kolom"
      ],
      "execution_count": 126,
      "outputs": []
    },
    {
      "cell_type": "code",
      "metadata": {
        "id": "IzFzR8_37bX2"
      },
      "source": [
        "class Kmeans:\n",
        "    def __init__(self,X,K):\n",
        "        self.X = X\n",
        "        self.Output = {}\n",
        "        self.Centroids = np.array([]).reshape(self.X.shape[1],0)\n",
        "        self.K = K\n",
        "        self.m = self.X.shape[0]\n",
        "\n",
        "    #mengatasi inisiasi/initialization random    \n",
        "    def kmeanspp(self,X,K): \n",
        "        i = rd.randint(0,X.shape[0])\n",
        "        Centroid_temp = np.array([X[i]])\n",
        "        for k in range(1,K):\n",
        "            D = np.array([]) \n",
        "            for x in X:\n",
        "                D = np.append(D,np.min(np.sum((x-Centroid_temp)**2)))\n",
        "            prob = D/np.sum(D)\n",
        "            cummulative_prob = np.cumsum(prob)\n",
        "            r = rd.random()\n",
        "            i = 0\n",
        "            for j,p in enumerate(cummulative_prob):\n",
        "                if r<p:\n",
        "                    i=j\n",
        "                    break\n",
        "            Centroid_temp = np.append(Centroid_temp,[X[i]],axis=0)\n",
        "        return Centroid_temp.T\n",
        "    \n",
        "    def fit(self,n_iter):\n",
        "        #menempatkan centroid secara acak\n",
        "        self.Centroids = self.kmeanspp(self.X,self.K)\n",
        "        \n",
        "        #euclidian distances dan memberi kluster\n",
        "        for n in range(n_iter):\n",
        "            EuclidianDistance = np.array([]).reshape(self.m,0)\n",
        "            for k in range(self.K):\n",
        "                tempDist = np.sum((self.X-self.Centroids[:,k])**2,axis=1)\n",
        "                EuclidianDistance = np.c_[EuclidianDistance,tempDist]\n",
        "            C = np.argmin(EuclidianDistance,axis=1)+1\n",
        "            \n",
        "            #mengubah posisi centroid\n",
        "            Y = {}\n",
        "            for k in range(self.K):\n",
        "                Y[k+1] = np.array([]).reshape(2,0)\n",
        "            for i in range(self.m):\n",
        "                Y[C[i]] = np.c_[Y[C[i]],self.X[i]]\n",
        "        \n",
        "            for k in range(self.K):\n",
        "                Y[k+1] = Y[k+1].T\n",
        "            for k in range(self.K):\n",
        "                self.Centroids[:,k] = np.mean(Y[k+1],axis=0)\n",
        "                \n",
        "            self.Output = Y\n",
        "            \n",
        "    def predict(self):\n",
        "        return self.Output,self.Centroids.T\n",
        "    \n",
        "    # Untuk Elbow Method\n",
        "    def WCSS(self):\n",
        "        wcss = 0\n",
        "        for k in range(self.K):\n",
        "            wcss+=np.sum((self.Output[k+1]-self.Centroids[:,k])**2)\n",
        "        return wcss"
      ],
      "execution_count": 127,
      "outputs": []
    },
    {
      "cell_type": "code",
      "metadata": {
        "id": "uL-m9gQC36mF"
      },
      "source": [
        "#berapa kali iterasi\n",
        "n_iteration = 50\n",
        "\n",
        "#banyaknya clusters\n",
        "K=3"
      ],
      "execution_count": 128,
      "outputs": []
    },
    {
      "cell_type": "code",
      "metadata": {
        "colab": {
          "base_uri": "https://localhost:8080/",
          "height": 281
        },
        "id": "3IOch54l9Ovx",
        "outputId": "4b8294cd-8f9f-49a3-de2f-2ad06eff3b14"
      },
      "source": [
        "# Plot of the unclustered data\n",
        "\n",
        "plt.scatter(X[:,0],X[:,1],c='black', label='data')\n",
        "plt.legend()\n",
        "plt.title('Data yang belum diklaster')\n",
        "plt.show()"
      ],
      "execution_count": 129,
      "outputs": [
        {
          "output_type": "display_data",
          "data": {
            "image/png": "[encoded data removed]",
            "text/plain": [
              "<Figure size 432x288 with 1 Axes>"
            ]
          },
          "metadata": {
            "tags": [],
            "needs_background": "light"
          }
        }
      ]
    },
    {
      "cell_type": "markdown",
      "metadata": {
        "id": "PgrKL8yfdvti"
      },
      "source": [
        "Graf di atas adalah hasil dari data yang belum menggunakan KMeans modelling."
      ]
    },
    {
      "cell_type": "code",
      "metadata": {
        "id": "EQGWASQJ9Sg_"
      },
      "source": [
        "kmeans = Kmeans(X,K)\n",
        "kmeans.fit(n_iteration)\n",
        "Output,Centroids = kmeans.predict()"
      ],
      "execution_count": 130,
      "outputs": []
    },
    {
      "cell_type": "code",
      "metadata": {
        "colab": {
          "base_uri": "https://localhost:8080/",
          "height": 281
        },
        "id": "Q6gj1sf99cLA",
        "outputId": "c9aa3785-af81-45d6-9331-0e73cdaff9b9"
      },
      "source": [
        "color = ['purple','orange','blue','red','green']\n",
        "labels = ['cluster1','cluster2','cluster3','cluster4','cluster5']\n",
        "for k in range(K):\n",
        "    plt.scatter(Output[k+1][:,0],Output[k+1][:,1], c=color[k], label=labels[k])\n",
        "plt.scatter(Centroids[:,0],Centroids[:,1], s=300, c='yellow', label='Centroids')\n",
        "plt.title('Data yang sudah diklaster #1')\n",
        "plt.legend()\n",
        "plt.show()"
      ],
      "execution_count": 131,
      "outputs": [
        {
          "output_type": "display_data",
          "data": {
            "image/png": "[encoded data removed]",
            "text/plain": [
              "<Figure size 432x288 with 1 Axes>"
            ]
          },
          "metadata": {
            "tags": [],
            "needs_background": "light"
          }
        }
      ]
    },
    {
      "cell_type": "markdown",
      "metadata": {
        "id": "YeoVsNJPd52I"
      },
      "source": [
        "Dan graf di atas merupakan hasil data yang sudah diclustering. Terdapat 3 Centroid dan 3 Clustering."
      ]
    },
    {
      "cell_type": "markdown",
      "metadata": {
        "id": "bdr7a2QCAHRW"
      },
      "source": [
        "### 4. Evaluasi"
      ]
    },
    {
      "cell_type": "markdown",
      "metadata": {
        "id": "AM0bEJ6zjH7a"
      },
      "source": [
        "Di tahap evaluasi ini, akan digunakannya the elbow method, atau juga yang bisa disebut WCSS, untuk mendapatkan jumlah kluster yang optimal."
      ]
    },
    {
      "cell_type": "code",
      "metadata": {
        "id": "3zb4hIfMAA9s"
      },
      "source": [
        "WCSS_array=np.array([])\n",
        "for K in range(1,11):\n",
        "    kmeans=Kmeans(X,K)\n",
        "    kmeans.fit(n_iteration)\n",
        "    Output,Centroids=kmeans.predict()\n",
        "    wcss=0\n",
        "    for k in range(K):\n",
        "        wcss+=np.sum((Output[k+1]-Centroids[k,:])**2)\n",
        "    WCSS_array=np.append(WCSS_array,wcss)"
      ],
      "execution_count": 132,
      "outputs": []
    },
    {
      "cell_type": "code",
      "metadata": {
        "id": "HwDnqZJKAJgN",
        "colab": {
          "base_uri": "https://localhost:8080/",
          "height": 294
        },
        "outputId": "3a0d0b64-ba0a-4d64-b8f3-1db9599e1ade"
      },
      "source": [
        "K_array=np.arange(1,11,1)\n",
        "plt.plot(K_array,WCSS_array)\n",
        "plt.xlabel('Jumlah Cluster (K)')\n",
        "plt.ylabel('WCSS')\n",
        "plt.title('Elbow Method untuk Menentukan Jumlah K')\n",
        "plt.show()"
      ],
      "execution_count": 133,
      "outputs": [
        {
          "output_type": "display_data",
          "data": {
            "image/png": "[encoded data removed]",
            "text/plain": [
              "<Figure size 432x288 with 1 Axes>"
            ]
          },
          "metadata": {
            "tags": [],
            "needs_background": "light"
          }
        }
      ]
    },
    {
      "cell_type": "markdown",
      "metadata": {
        "id": "4O0ktqOiy01b"
      },
      "source": [
        "Hasil graf di atas menunjukkan bahwa jumlah cluster yang paling optimal adalah sebanyak 2 cluster"
      ]
    },
    {
      "cell_type": "markdown",
      "metadata": {
        "id": "oZU_Ppt-jcpz"
      },
      "source": [
        "### 5. Eksperimen"
      ]
    },
    {
      "cell_type": "markdown",
      "metadata": {
        "id": "jmHzfhOXjg-F"
      },
      "source": [
        "Di tahap eksperimen, pembagian data untuk tiap kluster akan di analisis, metode yang menggunakan elbow method dan metode yang tidak."
      ]
    },
    {
      "cell_type": "code",
      "metadata": {
        "id": "ldiDpWsSe97-",
        "colab": {
          "base_uri": "https://localhost:8080/",
          "height": 160
        },
        "outputId": "28b855d5-67e3-4333-c7cd-dec9f937006c"
      },
      "source": [
        "#berapa kali iterasi\n",
        "n_iteration = 50\n",
        "\n",
        "#banyaknya clusters\n",
        "K=2\n",
        "\n",
        "'''\n",
        "class Kmeans:\n",
        "    def __init__(self,X,K):\n",
        "        self.X=X\n",
        "        self.Output={}\n",
        "        self.Centroids=np.array([]).reshape(self.X.shape[1],0)\n",
        "        self.K=K\n",
        "        self.m=self.X.shape[0]\n",
        "        \n",
        "    def kmeanspp(self,X,K): # This function is used to handle random initialization\n",
        "        i=rd.randint(0,X.shape[0])\n",
        "        Centroid_temp=np.array([X[i]])\n",
        "        for k in range(1,K):\n",
        "            D=np.array([]) \n",
        "            for x in X:\n",
        "                D=np.append(D,np.min(np.sum((x-Centroid_temp)**2)))\n",
        "            prob=D/np.sum(D)\n",
        "            cummulative_prob=np.cumsum(prob)\n",
        "            r=rd.random()\n",
        "            i=0\n",
        "            for j,p in enumerate(cummulative_prob):\n",
        "                if r<p:\n",
        "                    i=j\n",
        "                    break\n",
        "            Centroid_temp=np.append(Centroid_temp,[X[i]],axis=0)\n",
        "        return Centroid_temp.T\n",
        "    \n",
        "    def fit(self,n_iter):\n",
        "        #randomly Initialize the centroids\n",
        "        self.Centroids=self.kmeanspp(self.X,self.K)\n",
        "        \n",
        "        \"\"\"for i in range(self.K):\n",
        "            rand=rd.randint(0,self.m-1)\n",
        "            self.Centroids=np.c_[self.Centroids,self.X[rand]]\"\"\"\n",
        "        \n",
        "        #compute euclidian distances and assign clusters\n",
        "        for n in range(n_iter):\n",
        "            EuclidianDistance=np.array([]).reshape(self.m,0)\n",
        "            for k in range(self.K):\n",
        "                tempDist=np.sum((self.X-self.Centroids[:,k])**2,axis=1)\n",
        "                EuclidianDistance=np.c_[EuclidianDistance,tempDist]\n",
        "            C=np.argmin(EuclidianDistance,axis=1)+1\n",
        "            #adjust the centroids\n",
        "            Y={}\n",
        "            for k in range(self.K):\n",
        "                Y[k+1]=np.array([]).reshape(2,0)\n",
        "            for i in range(self.m):\n",
        "                Y[C[i]]=np.c_[Y[C[i]],self.X[i]]\n",
        "        \n",
        "            for k in range(self.K):\n",
        "                Y[k+1]=Y[k+1].T\n",
        "            for k in range(self.K):\n",
        "                self.Centroids[:,k]=np.mean(Y[k+1],axis=0)\n",
        "                \n",
        "            self.Output=Y\n",
        "            \n",
        "    \n",
        "    def predict(self):\n",
        "        return self.Output,self.Centroids.T\n",
        "    \n",
        "    def WCSS(self):\n",
        "        wcss=0\n",
        "        for k in range(self.K):\n",
        "            wcss+=np.sum((self.Output[k+1]-self.Centroids[:,k])**2)\n",
        "        return wcss\n",
        "''' "
      ],
      "execution_count": 134,
      "outputs": [
        {
          "output_type": "execute_result",
          "data": {
            "application/vnd.google.colaboratory.intrinsic+json": {
              "type": "string"
            },
            "text/plain": [
              "'\\nclass Kmeans:\\n    def __init__(self,X,K):\\n        self.X=X\\n        self.Output={}\\n        self.Centroids=np.array([]).reshape(self.X.shape[1],0)\\n        self.K=K\\n        self.m=self.X.shape[0]\\n        \\n    def kmeanspp(self,X,K): # This function is used to handle random initialization\\n        i=rd.randint(0,X.shape[0])\\n        Centroid_temp=np.array([X[i]])\\n        for k in range(1,K):\\n            D=np.array([]) \\n            for x in X:\\n                D=np.append(D,np.min(np.sum((x-Centroid_temp)**2)))\\n            prob=D/np.sum(D)\\n            cummulative_prob=np.cumsum(prob)\\n            r=rd.random()\\n            i=0\\n            for j,p in enumerate(cummulative_prob):\\n                if r<p:\\n                    i=j\\n                    break\\n            Centroid_temp=np.append(Centroid_temp,[X[i]],axis=0)\\n        return Centroid_temp.T\\n    \\n    def fit(self,n_iter):\\n        #randomly Initialize the centroids\\n        self.Centroids=self.kmeanspp(self.X,self.K)\\n        \\n        \"\"\"for i in range(self.K):\\n            rand=rd.randint(0,self.m-1)\\n            self.Centroids=np.c_[self.Centroids,self.X[rand]]\"\"\"\\n        \\n        #compute euclidian distances and assign clusters\\n        for n in range(n_iter):\\n            EuclidianDistance=np.array([]).reshape(self.m,0)\\n            for k in range(self.K):\\n                tempDist=np.sum((self.X-self.Centroids[:,k])**2,axis=1)\\n                EuclidianDistance=np.c_[EuclidianDistance,tempDist]\\n            C=np.argmin(EuclidianDistance,axis=1)+1\\n            #adjust the centroids\\n            Y={}\\n            for k in range(self.K):\\n                Y[k+1]=np.array([]).reshape(2,0)\\n            for i in range(self.m):\\n                Y[C[i]]=np.c_[Y[C[i]],self.X[i]]\\n        \\n            for k in range(self.K):\\n                Y[k+1]=Y[k+1].T\\n            for k in range(self.K):\\n                self.Centroids[:,k]=np.mean(Y[k+1],axis=0)\\n                \\n            self.Output=Y\\n            \\n    \\n    def predict(self):\\n        return self.Output,self.Centroids.T\\n    \\n    def WCSS(self):\\n        wcss=0\\n        for k in range(self.K):\\n            wcss+=np.sum((self.Output[k+1]-self.Centroids[:,k])**2)\\n        return wcss\\n'"
            ]
          },
          "metadata": {
            "tags": []
          },
          "execution_count": 134
        }
      ]
    },
    {
      "cell_type": "code",
      "metadata": {
        "colab": {
          "base_uri": "https://localhost:8080/",
          "height": 281
        },
        "id": "GiHADu1QfJ2o",
        "outputId": "0ea0d845-dbaa-4957-a175-089d6471c683"
      },
      "source": [
        "color=['purple','orange','blue','red','green']\n",
        "labels=['cluster1','cluster2','cluster3','cluster4','cluster5']\n",
        "for k in range(K):\n",
        "    plt.scatter(Output[k+1][:,0],Output[k+1][:,1],c=color[k],label=labels[k])\n",
        "plt.scatter(Centroids[:,0],Centroids[:,1],s=300,c='yellow',label='Centroids')\n",
        "plt.title('Data Cluster menggunakan elbow method ')\n",
        "plt.legend()\n",
        "plt.show()"
      ],
      "execution_count": 135,
      "outputs": [
        {
          "output_type": "display_data",
          "data": {
            "image/png": "[encoded data removed]",
            "text/plain": [
              "<Figure size 432x288 with 1 Axes>"
            ]
          },
          "metadata": {
            "tags": [],
            "needs_background": "light"
          }
        }
      ]
    },
    {
      "cell_type": "markdown",
      "metadata": {
        "id": "TkuzQt2WeuJl"
      },
      "source": [
        "Jika dibandingkan graf dataset yang menggunakan elbow method dengan yang tidak, dapat dilihat bahwa clustering di graf yang menggunakan elbow method lebih mudah dicermati dan diklasifikasi."
      ]
    },
    {
      "cell_type": "markdown",
      "metadata": {
        "id": "yoNijTRMzhFM"
      },
      "source": [
        "### 5. Kesimpulan"
      ]
    },
    {
      "cell_type": "markdown",
      "metadata": {
        "id": "0PP2ddBAzk-T"
      },
      "source": [
        "Dari hasil pemodelan clustering di atas, dapat dibuktikan bahwa clustering dengan menggunakan WCSS atau The Elbow Method memberikan hasil yang lebih optimal, sehingga mudah untuk mengklasifikasi data test jika ingin membuat prediksi."
      ]
    },
    {
      "cell_type": "code",
      "metadata": {
        "id": "eHkaLYq_zkRS"
      },
      "source": [
        "datatrain_baru.to_csv('datatrain_baru.csv')"
      ],
      "execution_count": 138,
      "outputs": []
    },
    {
      "cell_type": "code",
      "metadata": {
        "id": "8JWfn6_C0wQO"
      },
      "source": [
        ""
      ],
      "execution_count": null,
      "outputs": []
    }
  ]
}